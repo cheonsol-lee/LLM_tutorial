{
 "cells": [
  {
   "cell_type": "code",
   "execution_count": null,
   "metadata": {
    "id": "5QBRLJk08Xks"
   },
   "outputs": [],
   "source": [
    "!pip install -U transformers peft accelerate bitsandbytes einops gradio"
   ]
  },
  {
   "cell_type": "markdown",
   "metadata": {
    "id": "aUwuO1tPOfpj"
   },
   "source": [
    "# 1.Gradio 소개"
   ]
  },
  {
   "cell_type": "markdown",
   "metadata": {
    "id": "-xX4PDgPA9rL"
   },
   "source": [
    "<img src=\"https://i.imgur.com/4tEhvPV.png\" width=\"700px\" />"
   ]
  },
  {
   "cell_type": "markdown",
   "metadata": {
    "id": "5U3Tuz01Orl2"
   },
   "source": [
    "머신 러닝 모델, API 또는 데이터 과학 워크플로를 다른 사람들과 공유하기 위해 브라우저에서 데모를 사용해 볼 수 있는 대화형 앱 개발을 돕는 라이브러리.\n",
    "\n",
    "Gradio를 사용하면 Python으로 데모를 빌드하고 공유할 수 있습니다."
   ]
  },
  {
   "cell_type": "markdown",
   "metadata": {
    "id": "L6nfC4CyO86e"
   },
   "source": [
    "# 2.빠른 시작"
   ]
  },
  {
   "cell_type": "markdown",
   "metadata": {
    "id": "ZosnEYiNPIK6"
   },
   "source": [
    "## 2.1 라이브러리 설치하기"
   ]
  },
  {
   "cell_type": "code",
   "execution_count": null,
   "metadata": {
    "id": "murxWvyvO71r"
   },
   "outputs": [],
   "source": [
    "!pip install gradio"
   ]
  },
  {
   "cell_type": "markdown",
   "metadata": {
    "id": "GOD8DDYwPHEF"
   },
   "source": [
    "## 2.2. 간단한 데모"
   ]
  },
  {
   "cell_type": "code",
   "execution_count": 1,
   "metadata": {
    "id": "3uoF9DG-PGDG"
   },
   "outputs": [],
   "source": [
    "import gradio as gr\n",
    "\n",
    "def greet(name):\n",
    "    return \"Hello \" + name + \"!\""
   ]
  },
  {
   "cell_type": "code",
   "execution_count": 3,
   "metadata": {
    "id": "3uoF9DG-PGDG"
   },
   "outputs": [
    {
     "name": "stdout",
     "output_type": "stream",
     "text": [
      "Running on local URL:  http://127.0.0.1:7861\n",
      "Running on public URL: https://6d1cf575848263a8c3.gradio.live\n",
      "\n",
      "This share link expires in 72 hours. For free permanent hosting and GPU upgrades, run `gradio deploy` from Terminal to deploy to Spaces (https://huggingface.co/spaces)\n"
     ]
    },
    {
     "data": {
      "text/html": [
       "<div><iframe src=\"https://6d1cf575848263a8c3.gradio.live\" width=\"100%\" height=\"500\" allow=\"autoplay; camera; microphone; clipboard-read; clipboard-write;\" frameborder=\"0\" allowfullscreen></iframe></div>"
      ],
      "text/plain": [
       "<IPython.core.display.HTML object>"
      ]
     },
     "metadata": {},
     "output_type": "display_data"
    },
    {
     "data": {
      "text/plain": []
     },
     "execution_count": 3,
     "metadata": {},
     "output_type": "execute_result"
    }
   ],
   "source": [
    "demo = gr.Interface(fn=greet, inputs='text', outputs='text')\n",
    "demo.launch(share=True)"
   ]
  },
  {
   "cell_type": "markdown",
   "metadata": {
    "id": "PwE_zPvpPn3k"
   },
   "source": [
    "Gradio를 사용하는 코드의 가독성을 높이기 위해 가져온 이름을 gr로 줄였습니다. 이는 코드를 사용하는 모든 사람이 코드를 쉽게 이해할 수 있도록 널리 채택된 규칙이므로 반드시 따라야 합니다."
   ]
  },
  {
   "cell_type": "markdown",
   "metadata": {
    "id": "UCSEW3b_Pxsk"
   },
   "source": [
    "## 2.3. Interface 클래스"
   ]
  },
  {
   "cell_type": "markdown",
   "metadata": {
    "id": "vaYQlYSaP0vA"
   },
   "source": [
    "데모를 만들기 위해 gr.Interface를 만들었음을 알 수 있습니다. 이 인터페이스 클래스는 모든 파이썬 함수를 사용자 인터페이스로 래핑할 수 있습니다. 위의 예제에서는 간단한 텍스트 기반 함수를 보았지만, 음악 생성기부터 세금 계산기, 사전 학습된 머신 러닝 모델의 예측 기능에 이르기까지 모든 것이 함수가 될 수 있습니다."
   ]
  },
  {
   "cell_type": "markdown",
   "metadata": {
    "id": "GIfsljtmP3Xj"
   },
   "source": [
    "핵심 인터페이스 클래스는 세 가지 필수 파라미터로 초기화됩니다:\n",
    "\n",
    "- fn: UI를 감싸는 함수\n",
    "\n",
    "- inputs: 입력에 사용할 컴포넌트(예: \"텍스트\", \"이미지\", \"오디오\")\n",
    "\n",
    "- outputs: 출력에 사용할 컴포넌트(예: \"텍스트\", \"이미지\" 또는 \"레이블\")\n",
    "\n",
    "입력과 출력을 제공하는 데 사용되는 이러한 컴포넌트를 자세히 살펴봅시다.\n",
    "\n"
   ]
  },
  {
   "cell_type": "markdown",
   "metadata": {
    "id": "0uXjudb7QBWG"
   },
   "source": [
    "## 2.4. 컴퍼넌트"
   ]
  },
  {
   "cell_type": "code",
   "execution_count": 5,
   "metadata": {
    "id": "QkOQz-BqQDjv"
   },
   "outputs": [
    {
     "name": "stdout",
     "output_type": "stream",
     "text": [
      "Running on local URL:  http://127.0.0.1:7863\n",
      "\n",
      "To create a public link, set `share=True` in `launch()`.\n"
     ]
    },
    {
     "data": {
      "text/html": [
       "<div><iframe src=\"http://127.0.0.1:7863/\" width=\"100%\" height=\"500\" allow=\"autoplay; camera; microphone; clipboard-read; clipboard-write;\" frameborder=\"0\" allowfullscreen></iframe></div>"
      ],
      "text/plain": [
       "<IPython.core.display.HTML object>"
      ]
     },
     "metadata": {},
     "output_type": "display_data"
    },
    {
     "data": {
      "text/plain": []
     },
     "execution_count": 5,
     "metadata": {},
     "output_type": "execute_result"
    }
   ],
   "source": [
    "import gradio as gr\n",
    "\n",
    "def greet(name):\n",
    "    return \"Hello\" + name + \"!\"\n",
    "\n",
    "\n",
    "demo = gr.Interface(\n",
    "    fn=greet,\n",
    "    inputs=gr.Textbox(lines=5, placeholder=\"Name here..\"),\n",
    "    outputs='text'\n",
    ")\n",
    "\n",
    "demo.launch()\n",
    "\n"
   ]
  },
  {
   "cell_type": "markdown",
   "metadata": {
    "id": "4eo4h3h9QdSR"
   },
   "source": [
    "## 2.5. 여러개의 입력과 출력 컴퍼넌트\n"
   ]
  },
  {
   "cell_type": "code",
   "execution_count": 6,
   "metadata": {
    "id": "FSjrsmCHQiPH"
   },
   "outputs": [
    {
     "name": "stdout",
     "output_type": "stream",
     "text": [
      "Running on local URL:  http://127.0.0.1:7864\n",
      "\n",
      "To create a public link, set `share=True` in `launch()`.\n"
     ]
    },
    {
     "data": {
      "text/html": [
       "<div><iframe src=\"http://127.0.0.1:7864/\" width=\"100%\" height=\"500\" allow=\"autoplay; camera; microphone; clipboard-read; clipboard-write;\" frameborder=\"0\" allowfullscreen></iframe></div>"
      ],
      "text/plain": [
       "<IPython.core.display.HTML object>"
      ]
     },
     "metadata": {},
     "output_type": "display_data"
    },
    {
     "data": {
      "text/plain": []
     },
     "execution_count": 6,
     "metadata": {},
     "output_type": "execute_result"
    }
   ],
   "source": [
    "import gradio as gr\n",
    "\n",
    "def greet(name, is_morning, temperature):\n",
    "    salutation = \"Good morning\" if is_morning else \"Good evening\"\n",
    "    greeting = f\"{salutation} {name}. It is {temperature} degrees today\"\n",
    "    celsius = (temperature - 32) * 5 / 9\n",
    "    return greeting, round(celsius, 2)\n",
    "\n",
    "demo = gr.Interface(\n",
    "    fn=greet,\n",
    "    inputs=[\"text\", \"checkbox\", gr.Slider(0,100)],\n",
    "    outputs=[\"text\", \"number\"]\n",
    ")\n",
    "\n",
    "demo.launch()"
   ]
  },
  {
   "cell_type": "markdown",
   "metadata": {
    "id": "_326d4TAQy7G"
   },
   "source": [
    "## 2.6. 이미지 처리"
   ]
  },
  {
   "cell_type": "code",
   "execution_count": 11,
   "metadata": {
    "id": "OxeH78g3Q2YW"
   },
   "outputs": [
    {
     "name": "stdout",
     "output_type": "stream",
     "text": [
      "Running on local URL:  http://127.0.0.1:7866\n",
      "\n",
      "To create a public link, set `share=True` in `launch()`.\n"
     ]
    },
    {
     "data": {
      "text/html": [
       "<div><iframe src=\"http://127.0.0.1:7866/\" width=\"100%\" height=\"500\" allow=\"autoplay; camera; microphone; clipboard-read; clipboard-write;\" frameborder=\"0\" allowfullscreen></iframe></div>"
      ],
      "text/plain": [
       "<IPython.core.display.HTML object>"
      ]
     },
     "metadata": {},
     "output_type": "display_data"
    },
    {
     "data": {
      "text/plain": []
     },
     "execution_count": 11,
     "metadata": {},
     "output_type": "execute_result"
    }
   ],
   "source": [
    "import numpy as np\n",
    "import gradio as gr\n",
    "\n",
    "def sepia(input_img):\n",
    "    sepia_filter = np.array([\n",
    "        [0.393, 0.769, 0.189],\n",
    "        [0.349, 0.686, 0.168],\n",
    "        [0.272, 0.534, 0.131]\n",
    "    ])\n",
    "    sepia_img = input_img.dot(sepia_filter.T)\n",
    "    sepia_img /= sepia_img.max()\n",
    "    return sepia_img\n",
    "\n",
    "demo = gr.Interface(\n",
    "    sepia,\n",
    "    gr.Image(width=200, height=200),\n",
    "    \"image\"\n",
    ")\n",
    "\n",
    "demo.launch()"
   ]
  },
  {
   "cell_type": "markdown",
   "metadata": {
    "id": "sJ9yF1Y0RYSo"
   },
   "source": [
    "## 2.7. Chatbots"
   ]
  },
  {
   "cell_type": "code",
   "execution_count": 12,
   "metadata": {
    "id": "VFqLUqa9RbYR"
   },
   "outputs": [
    {
     "name": "stdout",
     "output_type": "stream",
     "text": [
      "Running on local URL:  http://127.0.0.1:7867\n",
      "\n",
      "To create a public link, set `share=True` in `launch()`.\n"
     ]
    },
    {
     "data": {
      "text/html": [
       "<div><iframe src=\"http://127.0.0.1:7867/\" width=\"100%\" height=\"500\" allow=\"autoplay; camera; microphone; clipboard-read; clipboard-write;\" frameborder=\"0\" allowfullscreen></iframe></div>"
      ],
      "text/plain": [
       "<IPython.core.display.HTML object>"
      ]
     },
     "metadata": {},
     "output_type": "display_data"
    },
    {
     "data": {
      "text/plain": []
     },
     "execution_count": 12,
     "metadata": {},
     "output_type": "execute_result"
    }
   ],
   "source": [
    "import random\n",
    "import gradio as gr\n",
    "\n",
    "def random_response(message, history):\n",
    "    return random.choice([\"Yes\", \"No\"])\n",
    "\n",
    "\n",
    "demo = gr.ChatInterface(random_response)\n",
    "demo.launch()"
   ]
  },
  {
   "cell_type": "markdown",
   "metadata": {
    "id": "pQEs4cvwT3gD"
   },
   "source": [
    "## 2.8. Blocks"
   ]
  },
  {
   "cell_type": "markdown",
   "metadata": {
    "id": "1hn1ysEaUI5A"
   },
   "source": [
    "Gradio는 앱을 빌드하는 두 가지 접근 방식을 제공합니다:\n",
    "\n",
    "1. 인터페이스 및 채팅 인터페이스, 지금까지 설명한 데모 제작을 위한 높은 수준의 추상화를 제공합니다.\n",
    "\n",
    "2. 보다 유연한 레이아웃과 데이터 흐름으로 웹 앱을 디자인하기 위한 로우레벨 API인 블록. 블록을 사용하면 여러 데이터 흐름과 데모를 표시하고, 페이지에서 컴포넌트가 표시되는 위치를 제어하고, 복잡한 데이터 흐름을 처리하고(예: 출력이 다른 함수의 입력으로 사용될 수 있음), 사용자 상호 작용에 따라 컴포넌트의 속성/가시성을 업데이트하는 등의 작업을 모두 Python에서 수행할 수 있습니다. 이러한 커스터마이징 기능이 필요하다면 블록을 사용해 보세요!\n",
    "\n"
   ]
  },
  {
   "cell_type": "markdown",
   "metadata": {
    "id": "xKsLd0iIWMfb"
   },
   "source": [
    "### Hello, Blocks"
   ]
  },
  {
   "cell_type": "code",
   "execution_count": 13,
   "metadata": {
    "id": "qbmTQtbNWQeo"
   },
   "outputs": [
    {
     "name": "stdout",
     "output_type": "stream",
     "text": [
      "Running on local URL:  http://127.0.0.1:7868\n",
      "\n",
      "To create a public link, set `share=True` in `launch()`.\n"
     ]
    },
    {
     "data": {
      "text/html": [
       "<div><iframe src=\"http://127.0.0.1:7868/\" width=\"100%\" height=\"500\" allow=\"autoplay; camera; microphone; clipboard-read; clipboard-write;\" frameborder=\"0\" allowfullscreen></iframe></div>"
      ],
      "text/plain": [
       "<IPython.core.display.HTML object>"
      ]
     },
     "metadata": {},
     "output_type": "display_data"
    },
    {
     "data": {
      "text/plain": []
     },
     "execution_count": 13,
     "metadata": {},
     "output_type": "execute_result"
    }
   ],
   "source": [
    "import gradio as gr\n",
    "\n",
    "def greet(name):\n",
    "    return \"Hello \" + name + \"!\"\n",
    "\n",
    "with gr.Blocks() as demo:\n",
    "    name = gr.Textbox(label=\"Name\")\n",
    "    output = gr.Textbox(label=\"Output Box\")\n",
    "    greet_btn = gr.Button(\"Greet\")\n",
    "    greet_btn.click(fn=greet, inputs=name, outputs=output, api_name=\"greet\")\n",
    "\n",
    "demo.launch()\n"
   ]
  },
  {
   "cell_type": "markdown",
   "metadata": {
    "id": "cTwpW6HyWlKI"
   },
   "source": [
    "### 좀더 복잡한 용법\n"
   ]
  },
  {
   "cell_type": "markdown",
   "metadata": {
    "id": "ZnQ5IVrlZUoG"
   },
   "source": [
    "Tab"
   ]
  },
  {
   "cell_type": "code",
   "execution_count": 18,
   "metadata": {
    "id": "LMHFri80Wn-i"
   },
   "outputs": [
    {
     "name": "stdout",
     "output_type": "stream",
     "text": [
      "Running on local URL:  http://127.0.0.1:7871\n",
      "\n",
      "To create a public link, set `share=True` in `launch()`.\n"
     ]
    },
    {
     "data": {
      "text/html": [
       "<div><iframe src=\"http://127.0.0.1:7871/\" width=\"100%\" height=\"500\" allow=\"autoplay; camera; microphone; clipboard-read; clipboard-write;\" frameborder=\"0\" allowfullscreen></iframe></div>"
      ],
      "text/plain": [
       "<IPython.core.display.HTML object>"
      ]
     },
     "metadata": {},
     "output_type": "display_data"
    },
    {
     "data": {
      "text/plain": []
     },
     "execution_count": 18,
     "metadata": {},
     "output_type": "execute_result"
    }
   ],
   "source": [
    "import numpy as np\n",
    "import gradio as gr\n",
    "\n",
    "\n",
    "def flip_text(x):\n",
    "    return x[::-1]\n",
    "\n",
    "\n",
    "def flip_image(x):\n",
    "    return np.fliplr(x)\n",
    "\n",
    "\n",
    "with gr.Blocks() as demo:\n",
    "    gr.Markdown(\"Flip text or image files using this demo.\")\n",
    "\n",
    "    with gr.Tab(\"Flip Text\"):\n",
    "        text_input = gr.Textbox()\n",
    "        text_output = gr.Textbox()\n",
    "        text_button = gr.Button(\"Flip\")\n",
    "\n",
    "    with gr.Tab(\"Flip Image\"):\n",
    "        with gr.Row():\n",
    "            image_input = gr.Image()\n",
    "            image_output = gr.Image()\n",
    "        image_button = gr.Button(\"Flip\")\n",
    "\n",
    "    with gr.Accordion(\"Open for More!\"):\n",
    "        gr.Markdown(\"Look at me...\")\n",
    "\n",
    "    text_button.click(flip_text, inputs=text_input, outputs=text_output)\n",
    "    image_button.click(flip_image, inputs=image_input, outputs=image_output)\n",
    "\n",
    "demo.launch()"
   ]
  },
  {
   "cell_type": "markdown",
   "metadata": {
    "id": "Ryy11ticZW_L"
   },
   "source": [
    "레이아웃"
   ]
  },
  {
   "cell_type": "code",
   "execution_count": 21,
   "metadata": {
    "id": "lrQATK5HWqD7"
   },
   "outputs": [
    {
     "name": "stdout",
     "output_type": "stream",
     "text": [
      "Running on local URL:  http://127.0.0.1:7874\n",
      "\n",
      "To create a public link, set `share=True` in `launch()`.\n"
     ]
    },
    {
     "data": {
      "text/html": [
       "<div><iframe src=\"http://127.0.0.1:7874/\" width=\"100%\" height=\"500\" allow=\"autoplay; camera; microphone; clipboard-read; clipboard-write;\" frameborder=\"0\" allowfullscreen></iframe></div>"
      ],
      "text/plain": [
       "<IPython.core.display.HTML object>"
      ]
     },
     "metadata": {},
     "output_type": "display_data"
    },
    {
     "data": {
      "text/plain": []
     },
     "execution_count": 21,
     "metadata": {},
     "output_type": "execute_result"
    }
   ],
   "source": [
    "import numpy as np\n",
    "import gradio as gr\n",
    "\n",
    "\n",
    "def flip_text(x):\n",
    "    return x[::-1]\n",
    "\n",
    "\n",
    "def flip_image(x):\n",
    "    return np.fliplr(x)\n",
    "\n",
    "\n",
    "with gr.Blocks() as demo:\n",
    "    gr.Markdown(\"Flip text or image files using this demo.\")\n",
    "\n",
    "    with gr.Row():\n",
    "        with gr.Column(scale=4):\n",
    "            with gr.Tab(\"Flip Text\"):\n",
    "                text_input = gr.Textbox()\n",
    "                text_output = gr.Textbox()\n",
    "                text_button = gr.Button(\"Flip\")\n",
    "\n",
    "            with gr.Tab(\"Flip Image\"):\n",
    "                with gr.Row():\n",
    "                    image_input = gr.Image()\n",
    "                    image_output = gr.Image()\n",
    "                image_button = gr.Button(\"Flip\")\n",
    "\n",
    "        with gr.Column(scale=1):\n",
    "            max_new_tokens = gr.Slider(\n",
    "                minimum=1, maximum=1000, value=250, step=1, interactive=True, label=\"Max New Tokens\",\n",
    "            )\n",
    "            top_p = gr.Slider(\n",
    "                minimum=0.05, maximum=1.0, value=0.95, step=0.05, interactive=True, label=\"Top-p (nucleus sampling)\",\n",
    "            )\n",
    "            top_k = gr.Slider(\n",
    "                minimum=1, maximum=50, value=50, step=1, interactive=True, label=\"Top-k\",\n",
    "            )\n",
    "            temperature = gr.Slider(\n",
    "                minimum=0.1, maximum=5.0, value=0.8, step=0.1, interactive=True, label=\"Temperature\",\n",
    "            )\n",
    "\n",
    "    text_button.click(flip_text, inputs=text_input, outputs=text_output)\n",
    "    image_button.click(flip_image, inputs=image_input, outputs=image_output)\n",
    "\n",
    "\n",
    "demo.launch()"
   ]
  },
  {
   "cell_type": "markdown",
   "metadata": {
    "id": "KF_RBjUnawbv"
   },
   "source": [
    "# 3.GPT 채팅 프로그램"
   ]
  },
  {
   "cell_type": "markdown",
   "metadata": {
    "id": "lZPIEswRa38r"
   },
   "source": [
    "## 3.1. 기본 형태"
   ]
  },
  {
   "cell_type": "code",
   "execution_count": 35,
   "metadata": {
    "id": "PSwTFkOabEX_"
   },
   "outputs": [],
   "source": [
    "from transformers import AutoTokenizer, AutoModelForCausalLM, TextIteratorStreamer, BitsAndBytesConfig\n",
    "\n",
    "\n",
    "model_id = \"gpt2\"\n",
    "model = AutoModelForCausalLM.from_pretrained(model_id, device_map=\"auto\")\n",
    "tokenizer = AutoTokenizer.from_pretrained(model_id)\n"
   ]
  },
  {
   "cell_type": "code",
   "execution_count": 37,
   "metadata": {
    "id": "YbHuxARoV_Gv"
   },
   "outputs": [
    {
     "name": "stdout",
     "output_type": "stream",
     "text": [
      "Running on local URL:  http://127.0.0.1:7875\n",
      "\n",
      "To create a public link, set `share=True` in `launch()`.\n"
     ]
    },
    {
     "data": {
      "text/html": [
       "<div><iframe src=\"http://127.0.0.1:7875/\" width=\"100%\" height=\"500\" allow=\"autoplay; camera; microphone; clipboard-read; clipboard-write;\" frameborder=\"0\" allowfullscreen></iframe></div>"
      ],
      "text/plain": [
       "<IPython.core.display.HTML object>"
      ]
     },
     "metadata": {},
     "output_type": "display_data"
    },
    {
     "name": "stderr",
     "output_type": "stream",
     "text": [
      "Setting `pad_token_id` to `eos_token_id`:50256 for open-end generation.\n",
      "Setting `pad_token_id` to `eos_token_id`:50256 for open-end generation.\n",
      "Setting `pad_token_id` to `eos_token_id`:50256 for open-end generation.\n",
      "Setting `pad_token_id` to `eos_token_id`:50256 for open-end generation.\n",
      "Setting `pad_token_id` to `eos_token_id`:50256 for open-end generation.\n"
     ]
    },
    {
     "name": "stdout",
     "output_type": "stream",
     "text": [
      "Keyboard interruption in main thread... closing server.\n",
      "Killing tunnel 127.0.0.1:7861 <> https://6d1cf575848263a8c3.gradio.live\n"
     ]
    },
    {
     "data": {
      "text/plain": []
     },
     "execution_count": 37,
     "metadata": {},
     "output_type": "execute_result"
    }
   ],
   "source": [
    "import random\n",
    "import gradio as gr\n",
    "from threading import Thread\n",
    "\n",
    "torch_device = \"cuda\"\n",
    "\n",
    "def gpt_response(message, history):\n",
    "    model_inputs = tokenizer([message], return_tensors=\"pt\").to(torch_device)\n",
    "    streamer = TextIteratorStreamer(tokenizer, timeout=10., skip_prompt=True, skip_special_tokens=True)\n",
    "    generate_kwargs = dict(\n",
    "        model_inputs,\n",
    "        streamer=streamer,\n",
    "        max_new_tokens=256,\n",
    "        do_sample=True,\n",
    "        top_p=0.9,\n",
    "        temperature=float(0.9),\n",
    "        top_k=30,\n",
    "        repetition_penalty=1.2,\n",
    "    )\n",
    "    t = Thread(target=model.generate, kwargs=generate_kwargs)\n",
    "    t.start()\n",
    "\n",
    "    model_output = \"\"\n",
    "    for new_text in streamer:\n",
    "        model_output += new_text\n",
    "        yield model_output\n",
    "\n",
    "    history.append(model_output)\n",
    "    return model_output\n",
    "\n",
    "\n",
    "demo = gr.ChatInterface(gpt_response)\n",
    "demo.queue()\n",
    "demo.launch(debug=True)"
   ]
  },
  {
   "cell_type": "code",
   "execution_count": null,
   "metadata": {
    "id": "2DNYMbzFIy9c"
   },
   "outputs": [],
   "source": []
  }
 ],
 "metadata": {
  "accelerator": "GPU",
  "colab": {
   "authorship_tag": "ABX9TyPVwkUGw1pn8g020ytkRyLQ",
   "gpuType": "T4",
   "provenance": []
  },
  "kernelspec": {
   "display_name": "llm",
   "language": "python",
   "name": "llm"
  },
  "language_info": {
   "codemirror_mode": {
    "name": "ipython",
    "version": 3
   },
   "file_extension": ".py",
   "mimetype": "text/x-python",
   "name": "python",
   "nbconvert_exporter": "python",
   "pygments_lexer": "ipython3",
   "version": "3.11.8"
  }
 },
 "nbformat": 4,
 "nbformat_minor": 4
}
